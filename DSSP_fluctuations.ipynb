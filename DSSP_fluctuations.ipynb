{
  "nbformat": 4,
  "nbformat_minor": 0,
  "metadata": {
    "colab": {
      "provenance": []
    },
    "kernelspec": {
      "name": "python3",
      "display_name": "Python 3"
    },
    "language_info": {
      "name": "python"
    }
  },
  "cells": [
    {
      "cell_type": "markdown",
      "source": [
        "Mount Drive folder:"
      ],
      "metadata": {
        "id": "t8NC_LsuElGW"
      }
    },
    {
      "cell_type": "code",
      "execution_count": null,
      "metadata": {
        "id": "NBAJCvGLEMWX"
      },
      "outputs": [],
      "source": [
        "from google.colab import drive\n",
        "drive.mount('/content/drive', force_remount=True)"
      ]
    },
    {
      "cell_type": "markdown",
      "source": [
        "Calculate DSSP and plot the graph:"
      ],
      "metadata": {
        "id": "XrV6NYvCErSL"
      }
    },
    {
      "cell_type": "code",
      "source": [
        "!pip install mdtraj\n",
        "import mdtraj as md\n",
        "import numpy as np\n",
        "import matplotlib.pyplot as plt\n",
        "\n",
        "%cd /content/drive\n",
        "# Load trajectory\n",
        "traj = md.load('fixed.xtc', top='step5_1.gro')\n",
        "\n",
        "\n",
        "# Compute DSSP\n",
        "dssp = md.compute_dssp(traj, simplified=True)  # H, E, C only\n",
        "\n",
        "# Calculate total helix content per framae\n",
        "helix_per_frame = (dssp == 'H').sum(axis=1)\n",
        "\n",
        "# Get time array (assuming dt from your trajectory)\n",
        "# Adjust timestep as needed - check your trajectory properties\n",
        "time_ns = traj.time  # This gives time in ps, convert to ns\n",
        "time_ns = time_ns / 1000.0  # Convert ps to ns\n",
        "\n",
        "# Plot helix content over time\n",
        "plt.figure(figsize=(12, 6))\n",
        "plt.plot(time_ns, helix_per_frame, linewidth=1)\n",
        "plt.xlabel('Time (ns)')\n",
        "plt.ylabel('Number of Helical Residues')\n",
        "plt.title('Helix Content Over Time')\n",
        "plt.grid(True, alpha=0.3)\n",
        "\n",
        "# Add running average for smoother visualization\n",
        "window_size = 50  # Adjust window size as needed\n",
        "if len(helix_per_frame) > window_size:\n",
        "    running_avg = np.convolve(helix_per_frame, np.ones(window_size)/window_size, mode='valid')\n",
        "    time_avg = time_ns[window_size-1:]\n",
        "    plt.plot(time_avg, running_avg, 'r-', linewidth=2, label=f'{window_size}-frame average')\n",
        "    plt.legend()\n",
        "\n",
        "plt.tight_layout()\n",
        "plt.show()\n",
        "\n",
        "# Print some statistics\n",
        "print(f\"Average helix content: {helix_per_frame.mean():.1f} ± {helix_per_frame.std():.1f} residues\")\n",
        "print(f\"Min helix content: {helix_per_frame.min()} residues\")\n",
        "print(f\"Max helix content: {helix_per_frame.max()} residues\")\n",
        "print(f\"Simulation time: {time_ns[-1]:.1f} ns\")"
      ],
      "metadata": {
        "id": "MGVOz-64Eboa"
      },
      "execution_count": null,
      "outputs": []
    },
    {
      "cell_type": "code",
      "source": [
        "!pip install mdtraj\n",
        "import mdtraj as md\n",
        "import numpy as np\n",
        "import matplotlib.pyplot as plt\n",
        "\n",
        "%cd /content/drive/\n",
        "# Load trajectory\n",
        "traj = md.load('fixed.trr', top='step7_1.gro')\n",
        "\n",
        "\n",
        "# Compute DSSP\n",
        "dssp = md.compute_dssp(traj, simplified=True)  # H, E, C only\n",
        "\n",
        "# Calculate total helix content per framae\n",
        "helix_per_frame = (dssp == 'H').sum(axis=1)\n",
        "\n",
        "# Get time array (assuming dt from your trajectory)\n",
        "# Adjust timestep as needed - check your trajectory properties\n",
        "time_ns = traj.time  # This gives time in ps, convert to ns\n",
        "time_ns = time_ns / 1000.0  # Convert ps to ns\n",
        "\n",
        "# Plot helix content over time\n",
        "plt.figure(figsize=(12, 6))\n",
        "plt.plot(time_ns, helix_per_frame, linewidth=1)\n",
        "plt.xlabel('Time (ns)')\n",
        "plt.ylabel('Number of Helical Residues')\n",
        "plt.title('Helix Content Over Time')\n",
        "plt.grid(True, alpha=0.3)\n",
        "\n",
        "# Add running average for smoother visualization\n",
        "window_size = 50  # Adjust window size as needed\n",
        "if len(helix_per_frame) > window_size:\n",
        "    running_avg = np.convolve(helix_per_frame, np.ones(window_size)/window_size, mode='valid')\n",
        "    time_avg = time_ns[window_size-1:]\n",
        "    plt.plot(time_avg, running_avg, 'r-', linewidth=2, label=f'{window_size}-frame average')\n",
        "    plt.legend()\n",
        "\n",
        "plt.tight_layout()\n",
        "plt.show()\n",
        "\n",
        "# Print some statistics\n",
        "print(f\"Average helix content: {helix_per_frame.mean():.1f} ± {helix_per_frame.std():.1f} residues\")\n",
        "print(f\"Min helix content: {helix_per_frame.min()} residues\")\n",
        "print(f\"Max helix content: {helix_per_frame.max()} residues\")\n",
        "print(f\"Simulation time: {time_ns[-1]:.1f} ns\")"
      ],
      "metadata": {
        "id": "Oa4NO1c4EShC"
      },
      "execution_count": null,
      "outputs": []
    }
  ]
}